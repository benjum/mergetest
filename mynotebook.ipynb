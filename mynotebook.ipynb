{
 "cells": [
  {
   "cell_type": "markdown",
   "id": "3f8bdbbe-6167-40f9-84ae-a3291fe0ee62",
   "metadata": {
    "tags": []
   },
   "source": [
    "# My file\n",
    "### by Ben Winjum\n",
    "---\n",
    "\n",
    "This is my first markdown file.\n",
    "\n",
    "- apple\n",
    "- banana\n",
    "- cheese\n",
    "\n",
    "you can do ordered lists too\n",
    "1. apple\n",
    "2. banana\n",
    "3. cheese\n",
    "\n",
    "*hello!*\n",
    "\n",
    "**goodbye**\n",
    "\n",
    "[Markdown wiki link](https://en.wikipedia.org/wiki/Markdown)"
   ]
  },
  {
   "cell_type": "code",
   "execution_count": 1,
   "id": "cb107b67-28e4-4321-ac87-f8b6c7e83c35",
   "metadata": {},
   "outputs": [
    {
     "data": {
      "text/plain": [
       "4"
      ]
     },
     "execution_count": 1,
     "metadata": {},
     "output_type": "execute_result"
    }
   ],
   "source": [
    "2+2"
   ]
  },
  {
   "cell_type": "markdown",
   "id": "2fd267ae-0fd8-458f-b930-947b3de3a50a",
   "metadata": {},
   "source": [
    "That was my first Python code!"
   ]
  },
  {
   "cell_type": "code",
   "execution_count": null,
   "id": "07c0f734-7832-446e-95a3-7886599da41d",
   "metadata": {},
   "outputs": [],
   "source": []
  }
 ],
 "metadata": {
  "kernelspec": {
   "display_name": "Python 3 (ipykernel)",
   "language": "python",
   "name": "python3"
  },
  "language_info": {
   "codemirror_mode": {
    "name": "ipython",
    "version": 3
   },
   "file_extension": ".py",
   "mimetype": "text/x-python",
   "name": "python",
   "nbconvert_exporter": "python",
   "pygments_lexer": "ipython3",
   "version": "3.9.6"
  }
 },
 "nbformat": 4,
 "nbformat_minor": 5
}
